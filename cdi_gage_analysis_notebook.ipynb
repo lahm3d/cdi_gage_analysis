{
 "cells": [
  {
   "cell_type": "markdown",
   "id": "b27baa5c-fde4-4ef4-9567-58bfb7877fd4",
   "metadata": {},
   "source": [
    "# Leveraging Existing USGS Streamgage Data to Map Flood-Prone Areas\n",
    "---\n",
    "Team: Marina Metes (Lead PI), Labeeb Ahmed, Tristan Mohs & Greg Noe\n",
    "Contact: `mmetes@usgs.gov` or `lahmed@usgs.gov`\n",
    "\n",
    "## Summary\n",
    "Knowing where floods occur is crucial for a wide range of stakeholder needs, from protecting people and infrastructure from flood risk, to managing and maintaining healthy riparian and floodplain ecosystems that frequently flood. The goal of this project is to develop automated workflows using open-source software and publicly available data to map flood extent in locations that are unmonitored. The output will be continuous digital representations of floodplains across stream networks for a range of annual exceedance probabilities. The floodplains will also include width and other metrics averaged by cross-section, reach, or watershed. A model to estimate flood extent in unmonitored locations will be calibrated using existing USGS streamgage data and field measurements, and elevation data derived from lidar. This project will develop methods for using streamgage data outside traditional applications and create workflows for more readily accessing intermediate datasets associated with streamgage maintenance that are relevant to floodplain mapping.\n",
    "\n",
    "## Interactive Document\n",
    "This jupyter notebook is an interactive document with explanations followed by code snippets and interactive widgets\n",
    "\n",
    "## Table of Contents:\n",
    "1. [Python Imports](#python-imports)\n",
    "[Map and explore lidar collections](#item)"
   ]
  },
  {
   "cell_type": "markdown",
   "id": "a0858314-3e46-40cb-bcb5-b517a620ecf7",
   "metadata": {},
   "source": [
    "### Python Imports <a name=\"python-imports\"></a>"
   ]
  },
  {
   "cell_type": "code",
   "execution_count": null,
   "id": "e6783ff0-7804-4f04-8de4-be4fcef64428",
   "metadata": {
    "tags": []
   },
   "outputs": [],
   "source": [
    "from pathlib import Path\n",
    "from lapis import lapis, noaa_dav, gps_time, flood_stats\n",
    "import leafmap.leafmap as leafmap\n",
    "import dataretrieval.nwis as nwis"
   ]
  },
  {
   "cell_type": "markdown",
   "id": "623d5f05-cce4-4e8b-a899-8a4b6bbac666",
   "metadata": {
    "tags": []
   },
   "source": [
    "### Create data folder"
   ]
  },
  {
   "cell_type": "code",
   "execution_count": null,
   "id": "d7134ee3-f632-4b85-9327-97e6ca8e11c0",
   "metadata": {
    "tags": []
   },
   "outputs": [],
   "source": [
    "Path(\"data\").mkdir(parents=True, exist_ok=True)"
   ]
  },
  {
   "cell_type": "markdown",
   "id": "9a8e3637-a3e8-49a2-a55a-5aa1d6c16ae7",
   "metadata": {
    "tags": []
   },
   "source": [
    "### User Inputs: \n",
    "Coordinates (converted to circles), polygon features (shapefiles, gpkg, geojson etc., -- Only single part), or bounding boxes. \n",
    "\n",
    "**Note: all input data should be in World Geodetic System 1984 (WGS 84)**"
   ]
  },
  {
   "cell_type": "code",
   "execution_count": null,
   "id": "3d436be0-ddab-4c8c-8d90-b7ed68498402",
   "metadata": {
    "tags": []
   },
   "outputs": [],
   "source": [
    "locations_dict = [\n",
    "    {\n",
    "        'name': 'gage id 01650500',\n",
    "        'data_type': 'coords',\n",
    "        'value': (-77.0293611, 39.06552778), #longitude, latitude\n",
    "        'buffer': 500, # in meters -- default value is 50 meters unless specified \n",
    "    },\n",
    "    {\n",
    "        'name': 'gage id 01651000',\n",
    "        'data_type': 'coords',\n",
    "        'value': (-76.96513889, 38.95255556), #longitude, latitude\n",
    "        'buffer': 500, # in meters -- default value is 50 meters unless specified \n",
    "    },\n",
    "]"
   ]
  },
  {
   "cell_type": "markdown",
   "id": "d41b666b-7e04-472e-ad45-07694c1a9224",
   "metadata": {},
   "source": [
    "Users can also provide bounding boxes or geojson:\n",
    "\n",
    "Here's an example of passing geojson file that represents boundary of Washington DC\n",
    "```\n",
    "{\n",
    "    'name': 'washington dc',\n",
    "    'data_type': 'file',\n",
    "    'value': '.../district_of_columbia_boundary.geojson'\n",
    "}\n",
    "```\n",
    "Bounding box that represents complete extent of Augusta County, VA.\n",
    "```\n",
    "{\n",
    "    'name': 'augusta county, va',\n",
    "    'data_type': 'bbox',\n",
    "    'value': [-79.53330839559011, 37.88158664008918, -78.74939547673364, 38.477678774587105]\n",
    "}\n",
    "```"
   ]
  },
  {
   "cell_type": "markdown",
   "id": "e6e34570-7f92-4843-a375-8c48de6a0857",
   "metadata": {
    "tags": []
   },
   "source": [
    "### Find all lidar collections that intersect provided locations (using USIAEI)\n",
    "\n",
    "USIAEI lists all lidar collections, but sometimes paths to EPT (Entwine Point Tiles) files are not included. Another source of these EPT files is NOAA's Digital Access Viewer (DAV). First step is to webscrape all of NOAA's collection names and corresponding EPT files if any and cross walk the records from USIAEI and NOAA."
   ]
  },
  {
   "cell_type": "code",
   "execution_count": null,
   "id": "9a4235af-144d-438a-aec9-c0b96b5fe1f8",
   "metadata": {
    "tags": []
   },
   "outputs": [],
   "source": [
    "find_lidar = lapis.SearchLidarInventory(locations_dict)\n",
    "locations, collections = find_lidar.get_lidar_collections()"
   ]
  },
  {
   "cell_type": "markdown",
   "id": "64b46188-3345-44dc-bd48-da1500ce646e",
   "metadata": {
    "tags": []
   },
   "source": [
    "### Result(s)"
   ]
  },
  {
   "cell_type": "code",
   "execution_count": null,
   "id": "24ff2d2a-30bd-40fc-b8ce-275e538609e1",
   "metadata": {
    "tags": []
   },
   "outputs": [],
   "source": [
    "locations[['name', 'geometry']]"
   ]
  },
  {
   "cell_type": "code",
   "execution_count": null,
   "id": "a4218a11-8fc6-4e70-9fdd-053e50287c1b",
   "metadata": {
    "tags": []
   },
   "outputs": [],
   "source": [
    "collections.head(3)"
   ]
  },
  {
   "cell_type": "markdown",
   "id": "bf8224a2-17a6-41d8-8221-6c6adc039352",
   "metadata": {
    "tags": []
   },
   "source": [
    "# Map and explore lidar collections <a name=\"item\"></a>"
   ]
  },
  {
   "cell_type": "code",
   "execution_count": null,
   "id": "233c2259-ac97-4337-ba17-63021992ea0c",
   "metadata": {
    "tags": []
   },
   "outputs": [],
   "source": [
    "m = leafmap.Map(center=[39, -77], zoom=4)\n",
    "m.add_tile_layer(\n",
    "    url=\"https://mt1.google.com/vt/lyrs=y&x={x}&y={y}&z={z}\",\n",
    "    name=\"Google Satellite\",\n",
    "    attribution=\"Google\",\n",
    ")\n",
    "# style = {\n",
    "#     'color': \"red\",\n",
    "#     'fillOpacity': 0.5}\n",
    "\n",
    "m.add_gdf(collections, layer_name=\"collections\", style={'color': 'blue'})\n",
    "m.add_gdf(locations, layer_name=\"locations\", style={'color': 'red','fillColor': '#3366cc'})\n",
    "m"
   ]
  },
  {
   "cell_type": "markdown",
   "id": "e2d685ac-f40f-4ca6-9447-a8ff881b27db",
   "metadata": {
    "tags": []
   },
   "source": [
    "### Cross-reference NOAA DAV - by web scraping "
   ]
  },
  {
   "cell_type": "code",
   "execution_count": null,
   "id": "40db0774-a434-4d3f-8089-401601ec7e0e",
   "metadata": {
    "tags": []
   },
   "outputs": [],
   "source": [
    "noaa_dav_gdf = noaa_dav.scrape_digital_coast_repo()"
   ]
  },
  {
   "cell_type": "markdown",
   "id": "5cf5b78e-0b28-4f92-a74f-3ff90a9f586f",
   "metadata": {},
   "source": [
    "### Parse lidar collections and extract EPT (if any)"
   ]
  },
  {
   "cell_type": "code",
   "execution_count": null,
   "id": "1ef9fedb-ed54-4ec3-ab4d-8a9433d4cd8d",
   "metadata": {
    "tags": []
   },
   "outputs": [],
   "source": [
    "collections = lapis.ProcessLidarCollections(collections, locations, noaa_dav_gdf).execute()"
   ]
  },
  {
   "cell_type": "markdown",
   "id": "3ca071cc-242f-4834-ac54-4cb9be69861c",
   "metadata": {
    "tags": []
   },
   "source": [
    "Notable columns in this dataframe:\n",
    "- `Title`: Lidar collection title\n",
    "- `collectionyear`: from USIEI -- year of lidar collection\n",
    "- `ept_usiaei`: EPT file path from USIAEI if present\n",
    "- `noaa_id`: If a USIEI collection is present in NOAA DAV repo then the unique will be present\n",
    "- `ID #`: same as `noaa_id` for cross-walk\n",
    "- `ept_noaa`: EPT file paths pulled from NOAA DAV\n",
    "- `ept`: reconciled EPT urls -- this cross-references USIAEI and NOAA DAV and used to retrieve point clouds\n",
    "- `ept_crs`: CRS for EPT files which is needed for on-the-fly transformation\n",
    "- `ept_gdf`: GeoDataframe of the original location feature reprojected to the native CRS of the EPT file"
   ]
  },
  {
   "cell_type": "code",
   "execution_count": null,
   "id": "b1d1b04b-8273-43ec-9529-466250e78dda",
   "metadata": {
    "tags": []
   },
   "outputs": [],
   "source": [
    "collections[['name', 'Title', 'collectionyear', 'collectiondate', 'meets3dep', 'Status']].head(3)"
   ]
  },
  {
   "cell_type": "markdown",
   "id": "2b1469ae-e666-4d70-96c8-cdc1f0969c64",
   "metadata": {
    "tags": []
   },
   "source": [
    "EPT files and/or lidar point clouds are stored in their native projection system. In the collections, geodataframe. The `ept_gdf` column stores the location geodataframe transformed to the native EPT CRS. "
   ]
  },
  {
   "cell_type": "markdown",
   "id": "c3ed455f-111f-4160-bb9b-f131fcee5cfa",
   "metadata": {},
   "source": [
    "## Enter the index number to extract `ept` url path and `ept_bbox` bounding box to retrieve the lidar point clouds using PDAL"
   ]
  },
  {
   "cell_type": "code",
   "execution_count": null,
   "id": "34ae51a3-15f6-4cd4-8343-d700ee317594",
   "metadata": {
    "tags": []
   },
   "outputs": [],
   "source": [
    "index = 0\n",
    "collection = collections.iloc[[index]]\n",
    "collection[['Title', 'name']]"
   ]
  },
  {
   "cell_type": "code",
   "execution_count": null,
   "id": "ee8bc20a-976f-4b52-b737-63a4b02e5e4d",
   "metadata": {
    "tags": []
   },
   "outputs": [],
   "source": [
    "count, arrays, metadata, demo_las = lapis.fetch_lidar(collection, geometry_method='polygon', write=True)"
   ]
  },
  {
   "cell_type": "markdown",
   "id": "c13796a8-a8ea-495c-8a81-b80c837dc753",
   "metadata": {},
   "source": [
    "# Visualizing the point cloud data"
   ]
  },
  {
   "cell_type": "code",
   "execution_count": null,
   "id": "0c70dedc-9c0b-4c42-8c9c-d9b26b4927b2",
   "metadata": {
    "tags": []
   },
   "outputs": [],
   "source": [
    "leafmap.view_lidar(demo_las, cmap='terrain', backend='pyvista')"
   ]
  },
  {
   "cell_type": "code",
   "execution_count": null,
   "id": "c273d3d8-952d-4973-88ae-59a0c8c71442",
   "metadata": {
    "tags": []
   },
   "outputs": [],
   "source": [
    "array = arrays[0] # 0 is for data and 1 is for datatype + column names\n",
    "\n",
    "print('no.of points / count: ', count)\n",
    "print('no. arrays: ', len(arrays))\n",
    "# print('metadata: ', metadata)"
   ]
  },
  {
   "cell_type": "code",
   "execution_count": null,
   "id": "d7debda1-5b06-4b71-a386-c92c32a9a2bb",
   "metadata": {
    "tags": []
   },
   "outputs": [],
   "source": [
    "timestamps = gps_time.LidarTimestamps(arrays[0]).get_timestamps()"
   ]
  },
  {
   "cell_type": "code",
   "execution_count": null,
   "id": "24d12eba-b4a5-4aad-b861-501633eb0a15",
   "metadata": {
    "tags": []
   },
   "outputs": [],
   "source": [
    "sorted_timestamps = sorted(timestamps)"
   ]
  },
  {
   "cell_type": "code",
   "execution_count": null,
   "id": "e51705e7-d401-48a7-a127-755fd8e7619b",
   "metadata": {
    "tags": []
   },
   "outputs": [],
   "source": [
    "print(f\"Total Duration of the Collection: {collection.collectiondate.values[0]} \\nlidar collection start: {sorted_timestamps[0]} UTC & ends: {sorted_timestamps[-1]} UTC\")"
   ]
  },
  {
   "cell_type": "markdown",
   "id": "49ab5d80-e63c-47d5-b3c1-66fc4799a19e",
   "metadata": {
    "tags": []
   },
   "source": [
    "### Pending workflow to extract rating curve at the time of the lidar collection"
   ]
  },
  {
   "cell_type": "markdown",
   "id": "9304d4a5-8312-4706-885a-c5229b29c02c",
   "metadata": {
    "tags": []
   },
   "source": [
    "Substitue current rating curve created for colesville gage"
   ]
  },
  {
   "cell_type": "code",
   "execution_count": null,
   "id": "c8595ff1-23ff-456b-8c74-542b79f7123b",
   "metadata": {
    "tags": []
   },
   "outputs": [],
   "source": [
    "site = \"01650500\""
   ]
  },
  {
   "cell_type": "markdown",
   "id": "8a50b0cb-a4b1-4ccb-9ab7-3be73c15d9d9",
   "metadata": {
    "tags": []
   },
   "source": [
    "What rating type to pick? exsa or base\n",
    "`https://rconnect.usgs.gov/dataRetrieval/reference/readNWISrating.html`"
   ]
  },
  {
   "cell_type": "code",
   "execution_count": null,
   "id": "bbea418d-0258-48a3-bcb8-913748c9da87",
   "metadata": {
    "tags": []
   },
   "outputs": [],
   "source": [
    "rating_data = nwis.get_ratings(site=site, file_type=\"base\") # or base?\n",
    "(rating_data)"
   ]
  },
  {
   "cell_type": "code",
   "execution_count": null,
   "id": "23e1a7e7-2a60-472a-ad72-a49a407865b6",
   "metadata": {
    "tags": []
   },
   "outputs": [],
   "source": [
    "rating_data = nwis.get_ratings(site=site, file_type=\"corr\") # or base?\n",
    "(rating_data)"
   ]
  },
  {
   "cell_type": "code",
   "execution_count": null,
   "id": "0b98a458-6e3a-4727-92de-d4811e0275ee",
   "metadata": {
    "tags": []
   },
   "outputs": [],
   "source": [
    "rating_data = nwis.get_ratings(site=site, file_type=\"exsa\") # or base?\n",
    "(rating_data)"
   ]
  },
  {
   "cell_type": "code",
   "execution_count": null,
   "id": "80b2a039-f075-4fc8-9c45-ec4b548c7965",
   "metadata": {
    "tags": []
   },
   "outputs": [],
   "source": [
    "rating_data = nwis.get_ratings(site=site, file_type=\"exsa\") # or base?\n",
    "rating_data = flood_stats.format_rating_data(rating_data)"
   ]
  },
  {
   "cell_type": "code",
   "execution_count": null,
   "id": "7e8ad3b7-2702-4e3e-8a2d-fd7e846d8337",
   "metadata": {
    "tags": []
   },
   "outputs": [],
   "source": [
    "(rating_data)"
   ]
  },
  {
   "cell_type": "code",
   "execution_count": null,
   "id": "7f542172-98da-4cb8-83fe-58ccb7f9280d",
   "metadata": {
    "tags": []
   },
   "outputs": [],
   "source": [
    "data = nwis.get_ratings(site=site, file_type=\"base\")"
   ]
  },
  {
   "cell_type": "markdown",
   "id": "45996281-6efa-43a5-9b6a-c098117b842e",
   "metadata": {},
   "source": [
    "Pull peak flow stats from StreamStats API and convert it into a dataframe"
   ]
  },
  {
   "cell_type": "code",
   "execution_count": null,
   "id": "a2c9edf7-8ebd-4c96-878f-968115aa0d87",
   "metadata": {
    "tags": []
   },
   "outputs": [],
   "source": [
    "peak_flow_stats = flood_stats.PeakFlowStatistics(site).process()"
   ]
  },
  {
   "cell_type": "code",
   "execution_count": null,
   "id": "5b389735-2936-4685-9261-7fb8ceb1d420",
   "metadata": {
    "tags": []
   },
   "outputs": [],
   "source": [
    "peak_flow_stats[['pfs_aep_name', 'pfs_flow_cfs']]"
   ]
  },
  {
   "cell_type": "markdown",
   "id": "46001e3b-0c97-489c-9bf3-ed1646f66a71",
   "metadata": {
    "tags": []
   },
   "source": [
    "Cross-reference AEP flow values with flow values from rating curve and find corresponding stage heights"
   ]
  },
  {
   "cell_type": "code",
   "execution_count": null,
   "id": "ad530cfe-f192-4563-a346-14b6159e5e90",
   "metadata": {
    "tags": []
   },
   "outputs": [],
   "source": [
    "peak_flow_stats = flood_stats.FlowToStage(\n",
    "    peak_flow_stats, rating_curve\n",
    "    ).find_stage_associated_with_aep_flow()"
   ]
  },
  {
   "cell_type": "markdown",
   "id": "d1fb851b-0e31-42c1-b012-bc18db196a5c",
   "metadata": {},
   "source": [
    "- `pfs_aep_name`: peak flow statistic (PFS) annual exceedance probability (AEP) name\n",
    "- `pfs_aep_code`: PFS AEP alphanumeric code\n",
    "---\n",
    "- `pfs_flow_cfs`: PFS AEP flow/discharge in cubic feet per second\n",
    "- `rc_flow_cfs`: rating curve (stage versus flow/discharge in cubic feet per second)\n",
    "- `rc_stage_ft`: rating curve stage height in feet\n",
    "---\n",
    "- `pfs_flow_cms`: PFS AEP flow/discharge in cubic meters per second\n",
    "- `rc_flow_cms`: rating curve (stage versus flow/discharge in cubic meters per second)\n",
    "- `rc_stage_m`: rating curve stage height in meters"
   ]
  },
  {
   "cell_type": "code",
   "execution_count": null,
   "id": "432e7f3d-9ccc-4ed5-9b53-4e53604fe42b",
   "metadata": {
    "tags": []
   },
   "outputs": [],
   "source": [
    "peak_flow_stats[['pfs_aep_name', 'pfs_flow_cms', 'rc_flow_cms', 'rc_stage_m']]"
   ]
  },
  {
   "cell_type": "markdown",
   "id": "27bacb0a-9686-43ba-8d69-eadef756b5a7",
   "metadata": {},
   "source": [
    "to do list:\n",
    "- add raster and hand grid\n",
    "- visualize raster and hand grid"
   ]
  },
  {
   "cell_type": "code",
   "execution_count": null,
   "id": "3a1a9619-28ca-426c-9c1f-6618255ba69f",
   "metadata": {},
   "outputs": [],
   "source": []
  }
 ],
 "metadata": {
  "kernelspec": {
   "display_name": "Python 3 (ipykernel)",
   "language": "python",
   "name": "python3"
  },
  "language_info": {
   "codemirror_mode": {
    "name": "ipython",
    "version": 3
   },
   "file_extension": ".py",
   "mimetype": "text/x-python",
   "name": "python",
   "nbconvert_exporter": "python",
   "pygments_lexer": "ipython3",
   "version": "3.10.12"
  }
 },
 "nbformat": 4,
 "nbformat_minor": 5
}
