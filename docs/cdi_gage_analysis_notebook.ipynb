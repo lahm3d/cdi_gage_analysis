{
 "cells": [
  {
   "cell_type": "code",
   "execution_count": 1,
   "id": "e6783ff0-7804-4f04-8de4-be4fcef64428",
   "metadata": {
    "tags": []
   },
   "outputs": [],
   "source": [
    "from lapis import lapis, noaa_dav, gps_time, flood_stats\n",
    "import leafmap.leafmap as leafmap  # for ipyleaflet only\n",
    "import dataretrieval.nwis as nwis"
   ]
  },
  {
   "cell_type": "markdown",
   "id": "9a8e3637-a3e8-49a2-a55a-5aa1d6c16ae7",
   "metadata": {
    "tags": []
   },
   "source": [
    "### Inputs: \n",
    "Coordinates (converted to circles), polygon features (shapefiles, gpkg, geojson etc., -- Only single part), or bounding boxes"
   ]
  },
  {
   "cell_type": "code",
   "execution_count": 2,
   "id": "3d436be0-ddab-4c8c-8d90-b7ed68498402",
   "metadata": {
    "tags": []
   },
   "outputs": [],
   "source": [
    "locations_dict = [\n",
    "    {\n",
    "        'name': 'gage id 01650500',\n",
    "        'data_type': 'coords',\n",
    "        'value': (-77.0293611, 39.06552778), #longitude, latitude\n",
    "        'buffer': 500, # in meters -- default value is 50 meters unless specified \n",
    "    },\n",
    "    {\n",
    "        'name': 'gage id 01651000',\n",
    "        'data_type': 'coords',\n",
    "        'value': (-76.96513889, 38.95255556), #longitude, latitude\n",
    "        'buffer': 500, # in meters -- default value is 50 meters unless specified \n",
    "    },\n",
    "    {\n",
    "        'name': 'washington dc',\n",
    "        'data_type': 'file',\n",
    "        'value': 'demo_data/district_of_columbia_boundary.geojson'\n",
    "    },\n",
    "    {\n",
    "        'name': 'augusta county, va',\n",
    "        'data_type': 'bbox',\n",
    "        'value': [-79.53330839559011, 37.88158664008918, -78.74939547673364, 38.477678774587105]\n",
    "    }\n",
    "]"
   ]
  },
  {
   "cell_type": "markdown",
   "id": "e6e34570-7f92-4843-a375-8c48de6a0857",
   "metadata": {
    "tags": []
   },
   "source": [
    "### Find all lidar collections that intersect provided locations (using USIAEI)\n",
    "\n",
    "USIAEI lists all lidar collections, but sometimes paths to EPT (Entwine Point Tiles) files are not included. Another source of these EPT files is NOAA's Digital Access Viewer (DAV). First step is to webscrape all of NOAA's collection names and corresponding EPT files if any and cross walk the records from USIAEI and NOAA."
   ]
  },
  {
   "cell_type": "code",
   "execution_count": 3,
   "id": "9a4235af-144d-438a-aec9-c0b96b5fe1f8",
   "metadata": {
    "tags": []
   },
   "outputs": [],
   "source": [
    "find_lidar = lapis.SearchLidarInventory(locations_dict)\n",
    "locations, collections = find_lidar.get_lidar_collections()"
   ]
  },
  {
   "cell_type": "markdown",
   "id": "64b46188-3345-44dc-bd48-da1500ce646e",
   "metadata": {
    "tags": []
   },
   "source": [
    "### Result(s)"
   ]
  },
  {
   "cell_type": "code",
   "execution_count": 4,
   "id": "24ff2d2a-30bd-40fc-b8ce-275e538609e1",
   "metadata": {
    "tags": []
   },
   "outputs": [
    {
     "data": {
      "text/html": [
       "<div>\n",
       "<style scoped>\n",
       "    .dataframe tbody tr th:only-of-type {\n",
       "        vertical-align: middle;\n",
       "    }\n",
       "\n",
       "    .dataframe tbody tr th {\n",
       "        vertical-align: top;\n",
       "    }\n",
       "\n",
       "    .dataframe thead th {\n",
       "        text-align: right;\n",
       "    }\n",
       "</style>\n",
       "<table border=\"1\" class=\"dataframe\">\n",
       "  <thead>\n",
       "    <tr style=\"text-align: right;\">\n",
       "      <th></th>\n",
       "      <th>name</th>\n",
       "      <th>geometry</th>\n",
       "    </tr>\n",
       "  </thead>\n",
       "  <tbody>\n",
       "    <tr>\n",
       "      <th>0</th>\n",
       "      <td>gage id01650500</td>\n",
       "      <td>POLYGON ((-77.02364 39.06464, -77.02379 39.064...</td>\n",
       "    </tr>\n",
       "    <tr>\n",
       "      <th>1</th>\n",
       "      <td>gage id 01651000</td>\n",
       "      <td>POLYGON ((-76.95943 38.95167, -76.95957 38.951...</td>\n",
       "    </tr>\n",
       "    <tr>\n",
       "      <th>2</th>\n",
       "      <td>washington dc</td>\n",
       "      <td>POLYGON ((-77.00244 38.96567, -77.00150 38.964...</td>\n",
       "    </tr>\n",
       "    <tr>\n",
       "      <th>3</th>\n",
       "      <td>augusta county, va</td>\n",
       "      <td>POLYGON ((-79.53331 37.88159, -78.74940 37.881...</td>\n",
       "    </tr>\n",
       "  </tbody>\n",
       "</table>\n",
       "</div>"
      ],
      "text/plain": [
       "                 name                                           geometry\n",
       "0     gage id01650500  POLYGON ((-77.02364 39.06464, -77.02379 39.064...\n",
       "1    gage id 01651000  POLYGON ((-76.95943 38.95167, -76.95957 38.951...\n",
       "2       washington dc  POLYGON ((-77.00244 38.96567, -77.00150 38.964...\n",
       "3  augusta county, va  POLYGON ((-79.53331 37.88159, -78.74940 37.881..."
      ]
     },
     "execution_count": 4,
     "metadata": {},
     "output_type": "execute_result"
    }
   ],
   "source": [
    "locations[['name', 'geometry']]"
   ]
  },
  {
   "cell_type": "code",
   "execution_count": 5,
   "id": "a4218a11-8fc6-4e70-9fdd-053e50287c1b",
   "metadata": {
    "tags": []
   },
   "outputs": [
    {
     "data": {
      "text/html": [
       "<div>\n",
       "<style scoped>\n",
       "    .dataframe tbody tr th:only-of-type {\n",
       "        vertical-align: middle;\n",
       "    }\n",
       "\n",
       "    .dataframe tbody tr th {\n",
       "        vertical-align: top;\n",
       "    }\n",
       "\n",
       "    .dataframe thead th {\n",
       "        text-align: right;\n",
       "    }\n",
       "</style>\n",
       "<table border=\"1\" class=\"dataframe\">\n",
       "  <thead>\n",
       "    <tr style=\"text-align: right;\">\n",
       "      <th></th>\n",
       "      <th>geometry</th>\n",
       "      <th>OBJECTID</th>\n",
       "      <th>ID</th>\n",
       "      <th>Title</th>\n",
       "      <th>DataType</th>\n",
       "      <th>Status</th>\n",
       "      <th>Links</th>\n",
       "      <th>pointspacing</th>\n",
       "      <th>verticalaccuracy</th>\n",
       "      <th>horizontalaccuracy</th>\n",
       "      <th>...</th>\n",
       "      <th>horizontaldatum</th>\n",
       "      <th>restrictions</th>\n",
       "      <th>leafOnOff</th>\n",
       "      <th>AlternateTitle</th>\n",
       "      <th>notes</th>\n",
       "      <th>RecordOwner</th>\n",
       "      <th>ContractSpec</th>\n",
       "      <th>Shape_Length</th>\n",
       "      <th>Shape_Area</th>\n",
       "      <th>name</th>\n",
       "    </tr>\n",
       "  </thead>\n",
       "  <tbody>\n",
       "    <tr>\n",
       "      <th>0</th>\n",
       "      <td>POLYGON ((-77.16494 39.30900, -77.16678 39.312...</td>\n",
       "      <td>161</td>\n",
       "      <td>28493</td>\n",
       "      <td>2018 MNCPPC Lidar: Montgomery and Prince Georg...</td>\n",
       "      <td>Lidar-Topo</td>\n",
       "      <td>Complete</td>\n",
       "      <td>{\"links\":[{\"link\":\"https:\\/\\/lidar.geodata.md....</td>\n",
       "      <td>0.7 m (spec)</td>\n",
       "      <td>{\"vertAccuracy\":[{\"VertDescription\":\"4.6 cm RM...</td>\n",
       "      <td>0.5 m</td>\n",
       "      <td>...</td>\n",
       "      <td>NAD83 HARN</td>\n",
       "      <td>Public</td>\n",
       "      <td>None</td>\n",
       "      <td>None</td>\n",
       "      <td>Plans are to submit to USGS after acceptance.</td>\n",
       "      <td>USGS</td>\n",
       "      <td>USGS LBS 1.2</td>\n",
       "      <td>441920.168052</td>\n",
       "      <td>4.317304e+09</td>\n",
       "      <td>gage id01650500</td>\n",
       "    </tr>\n",
       "    <tr>\n",
       "      <th>1</th>\n",
       "      <td>POLYGON ((-77.45889 39.21983, -77.47362 39.208...</td>\n",
       "      <td>876</td>\n",
       "      <td>24506</td>\n",
       "      <td>2008 Montgomery County Lidar</td>\n",
       "      <td>Lidar-Topo</td>\n",
       "      <td>Complete</td>\n",
       "      <td>{\"links\":[{\"link\":\"http:\\/\\/www6.montgomerycou...</td>\n",
       "      <td>Not Provided</td>\n",
       "      <td>{\"vertAccuracy\":[{\"VertDescription\":\"15 cm RMS...</td>\n",
       "      <td>1 m</td>\n",
       "      <td>...</td>\n",
       "      <td>NAD83</td>\n",
       "      <td>Other</td>\n",
       "      <td>None</td>\n",
       "      <td>None</td>\n",
       "      <td></td>\n",
       "      <td>USGS</td>\n",
       "      <td>Unknown</td>\n",
       "      <td>221628.863882</td>\n",
       "      <td>2.181791e+09</td>\n",
       "      <td>gage id01650500</td>\n",
       "    </tr>\n",
       "    <tr>\n",
       "      <th>2</th>\n",
       "      <td>POLYGON ((-77.11908 39.27012, -77.12978 39.271...</td>\n",
       "      <td>1556</td>\n",
       "      <td>42214</td>\n",
       "      <td>2021 MNCPPC Lidar: Montgomery and Prince Georg...</td>\n",
       "      <td>Lidar-Topo</td>\n",
       "      <td>Complete</td>\n",
       "      <td>None</td>\n",
       "      <td>0.35 m (spec)</td>\n",
       "      <td>{\"vertAccuracy\":[{\"VertDescription\":\"10 cm (sp...</td>\n",
       "      <td>0.5 m</td>\n",
       "      <td>...</td>\n",
       "      <td>NAD83 HARN</td>\n",
       "      <td>Public</td>\n",
       "      <td>None</td>\n",
       "      <td>USGS: MD_2020MontgomeryPrinceGeorges_C22</td>\n",
       "      <td>None</td>\n",
       "      <td>USGS</td>\n",
       "      <td>Unknown</td>\n",
       "      <td>426673.478813</td>\n",
       "      <td>4.243600e+09</td>\n",
       "      <td>gage id01650500</td>\n",
       "    </tr>\n",
       "  </tbody>\n",
       "</table>\n",
       "<p>3 rows × 30 columns</p>\n",
       "</div>"
      ],
      "text/plain": [
       "                                            geometry  OBJECTID     ID  \\\n",
       "0  POLYGON ((-77.16494 39.30900, -77.16678 39.312...       161  28493   \n",
       "1  POLYGON ((-77.45889 39.21983, -77.47362 39.208...       876  24506   \n",
       "2  POLYGON ((-77.11908 39.27012, -77.12978 39.271...      1556  42214   \n",
       "\n",
       "                                               Title    DataType    Status  \\\n",
       "0  2018 MNCPPC Lidar: Montgomery and Prince Georg...  Lidar-Topo  Complete   \n",
       "1                       2008 Montgomery County Lidar  Lidar-Topo  Complete   \n",
       "2  2021 MNCPPC Lidar: Montgomery and Prince Georg...  Lidar-Topo  Complete   \n",
       "\n",
       "                                               Links   pointspacing  \\\n",
       "0  {\"links\":[{\"link\":\"https:\\/\\/lidar.geodata.md....   0.7 m (spec)   \n",
       "1  {\"links\":[{\"link\":\"http:\\/\\/www6.montgomerycou...   Not Provided   \n",
       "2                                               None  0.35 m (spec)   \n",
       "\n",
       "                                    verticalaccuracy horizontalaccuracy  ...  \\\n",
       "0  {\"vertAccuracy\":[{\"VertDescription\":\"4.6 cm RM...              0.5 m  ...   \n",
       "1  {\"vertAccuracy\":[{\"VertDescription\":\"15 cm RMS...                1 m  ...   \n",
       "2  {\"vertAccuracy\":[{\"VertDescription\":\"10 cm (sp...              0.5 m  ...   \n",
       "\n",
       "  horizontaldatum  restrictions leafOnOff  \\\n",
       "0      NAD83 HARN        Public      None   \n",
       "1           NAD83         Other      None   \n",
       "2      NAD83 HARN        Public      None   \n",
       "\n",
       "                             AlternateTitle  \\\n",
       "0                                      None   \n",
       "1                                      None   \n",
       "2  USGS: MD_2020MontgomeryPrinceGeorges_C22   \n",
       "\n",
       "                                           notes RecordOwner  ContractSpec  \\\n",
       "0  Plans are to submit to USGS after acceptance.        USGS  USGS LBS 1.2   \n",
       "1                                                       USGS       Unknown   \n",
       "2                                           None        USGS       Unknown   \n",
       "\n",
       "    Shape_Length    Shape_Area             name  \n",
       "0  441920.168052  4.317304e+09  gage id01650500  \n",
       "1  221628.863882  2.181791e+09  gage id01650500  \n",
       "2  426673.478813  4.243600e+09  gage id01650500  \n",
       "\n",
       "[3 rows x 30 columns]"
      ]
     },
     "execution_count": 5,
     "metadata": {},
     "output_type": "execute_result"
    }
   ],
   "source": [
    "collections.head(3)"
   ]
  },
  {
   "cell_type": "markdown",
   "id": "bf8224a2-17a6-41d8-8221-6c6adc039352",
   "metadata": {},
   "source": [
    "# Map and explore lidar collections "
   ]
  },
  {
   "cell_type": "code",
   "execution_count": 6,
   "id": "233c2259-ac97-4337-ba17-63021992ea0c",
   "metadata": {
    "tags": []
   },
   "outputs": [
    {
     "data": {
      "application/vnd.jupyter.widget-view+json": {
       "model_id": "1af5e849d6884f85aa4edb8f1e799906",
       "version_major": 2,
       "version_minor": 0
      },
      "text/plain": [
       "Map(center=[39, -77], controls=(ZoomControl(options=['position', 'zoom_in_text', 'zoom_in_title', 'zoom_out_te…"
      ]
     },
     "execution_count": 6,
     "metadata": {},
     "output_type": "execute_result"
    }
   ],
   "source": [
    "m = leafmap.Map(center=[39, -77], zoom=4)\n",
    "m.add_tile_layer(\n",
    "    url=\"https://mt1.google.com/vt/lyrs=y&x={x}&y={y}&z={z}\",\n",
    "    name=\"Google Satellite\",\n",
    "    attribution=\"Google\",\n",
    ")\n",
    "# style = {\n",
    "#     'color': \"red\",\n",
    "#     'fillOpacity': 0.5}\n",
    "\n",
    "m.add_gdf(locations, layer_name=\"locations\", style={'color': 'red','fillColor': '#3366cc'})\n",
    "# m.add_gdf(collections, layer_name=\"collections\", style={'color': 'blue'})\n",
    "m"
   ]
  },
  {
   "cell_type": "markdown",
   "id": "e2d685ac-f40f-4ca6-9447-a8ff881b27db",
   "metadata": {
    "tags": []
   },
   "source": [
    "### Cross-reference NOAA DAV - by web scraping "
   ]
  },
  {
   "cell_type": "code",
   "execution_count": 7,
   "id": "40db0774-a434-4d3f-8089-401601ec7e0e",
   "metadata": {
    "tags": []
   },
   "outputs": [],
   "source": [
    "noaa_dav_gdf = noaa_dav.scrape_digital_coast_repo()"
   ]
  },
  {
   "cell_type": "markdown",
   "id": "5cf5b78e-0b28-4f92-a74f-3ff90a9f586f",
   "metadata": {},
   "source": [
    "### Parse lidar collections and extract EPT (if any)"
   ]
  },
  {
   "cell_type": "code",
   "execution_count": 8,
   "id": "1ef9fedb-ed54-4ec3-ab4d-8a9433d4cd8d",
   "metadata": {
    "tags": []
   },
   "outputs": [],
   "source": [
    "collections = lapis.ProcessLidarCollections(collections, locations, noaa_dav_gdf).execute()"
   ]
  },
  {
   "cell_type": "markdown",
   "id": "3ca071cc-242f-4834-ac54-4cb9be69861c",
   "metadata": {
    "tags": []
   },
   "source": [
    "Notable columns in this dataframe:\n",
    "- `Title`: Lidar collection title\n",
    "- `collectionyear`: from USIEI -- year of lidar collection\n",
    "- `ept_usiaei`: EPT file path from USIAEI if present\n",
    "- `noaa_id`: If a USIEI collection is present in NOAA DAV repo then the unique will be present\n",
    "- `ID #`: same as `noaa_id` for cross-walk\n",
    "- `ept_noaa`: EPT file paths pulled from NOAA DAV\n",
    "- `ept`: reconciled EPT urls -- this cross-references USIAEI and NOAA DAV and used to retrieve point clouds\n",
    "- `ept_crs`: CRS for EPT files which is needed for on-the-fly transformation\n",
    "- `ept_gdf`: GeoDataframe of the original location feature reprojected to the native CRS of the EPT file"
   ]
  },
  {
   "cell_type": "code",
   "execution_count": 9,
   "id": "b1d1b04b-8273-43ec-9529-466250e78dda",
   "metadata": {
    "tags": []
   },
   "outputs": [
    {
     "data": {
      "text/html": [
       "<div>\n",
       "<style scoped>\n",
       "    .dataframe tbody tr th:only-of-type {\n",
       "        vertical-align: middle;\n",
       "    }\n",
       "\n",
       "    .dataframe tbody tr th {\n",
       "        vertical-align: top;\n",
       "    }\n",
       "\n",
       "    .dataframe thead th {\n",
       "        text-align: right;\n",
       "    }\n",
       "</style>\n",
       "<table border=\"1\" class=\"dataframe\">\n",
       "  <thead>\n",
       "    <tr style=\"text-align: right;\">\n",
       "      <th></th>\n",
       "      <th>name</th>\n",
       "      <th>Title</th>\n",
       "      <th>collectionyear</th>\n",
       "      <th>collectiondate</th>\n",
       "      <th>meets3dep</th>\n",
       "      <th>Status</th>\n",
       "    </tr>\n",
       "  </thead>\n",
       "  <tbody>\n",
       "    <tr>\n",
       "      <th>0</th>\n",
       "      <td>gage id01650500</td>\n",
       "      <td>2018 MNCPPC Lidar: Montgomery and Prince Georg...</td>\n",
       "      <td>2018</td>\n",
       "      <td>Feb 8 - Sep 27, 2018</td>\n",
       "      <td>Pending Contribution to 3DEP</td>\n",
       "      <td>Complete</td>\n",
       "    </tr>\n",
       "    <tr>\n",
       "      <th>1</th>\n",
       "      <td>gage id01650500</td>\n",
       "      <td>2008 Montgomery County Lidar</td>\n",
       "      <td>2008</td>\n",
       "      <td>Feb 17, Mar 3, 5, 6, 11, 20, 24, 26, 29,  Apr ...</td>\n",
       "      <td>No</td>\n",
       "      <td>Complete</td>\n",
       "    </tr>\n",
       "    <tr>\n",
       "      <th>2</th>\n",
       "      <td>gage id01650500</td>\n",
       "      <td>2021 MNCPPC Lidar: Montgomery and Prince Georg...</td>\n",
       "      <td>2021</td>\n",
       "      <td>2021</td>\n",
       "      <td>Pending Contribution to 3DEP</td>\n",
       "      <td>Complete</td>\n",
       "    </tr>\n",
       "  </tbody>\n",
       "</table>\n",
       "</div>"
      ],
      "text/plain": [
       "              name                                              Title  \\\n",
       "0  gage id01650500  2018 MNCPPC Lidar: Montgomery and Prince Georg...   \n",
       "1  gage id01650500                       2008 Montgomery County Lidar   \n",
       "2  gage id01650500  2021 MNCPPC Lidar: Montgomery and Prince Georg...   \n",
       "\n",
       "   collectionyear                                     collectiondate  \\\n",
       "0            2018                               Feb 8 - Sep 27, 2018   \n",
       "1            2008  Feb 17, Mar 3, 5, 6, 11, 20, 24, 26, 29,  Apr ...   \n",
       "2            2021                                               2021   \n",
       "\n",
       "                      meets3dep    Status  \n",
       "0  Pending Contribution to 3DEP  Complete  \n",
       "1                            No  Complete  \n",
       "2  Pending Contribution to 3DEP  Complete  "
      ]
     },
     "execution_count": 9,
     "metadata": {},
     "output_type": "execute_result"
    }
   ],
   "source": [
    "collections[['name', 'Title', 'collectionyear', 'collectiondate', 'meets3dep', 'Status']].head(3)"
   ]
  },
  {
   "cell_type": "markdown",
   "id": "2b1469ae-e666-4d70-96c8-cdc1f0969c64",
   "metadata": {
    "tags": []
   },
   "source": [
    "EPT files and/or lidar point clouds are stored in their native projection system. In the collections, geodataframe. The `ept_gdf` column stores the location geodataframe transformed to the native EPT CRS. "
   ]
  },
  {
   "cell_type": "markdown",
   "id": "c3ed455f-111f-4160-bb9b-f131fcee5cfa",
   "metadata": {},
   "source": [
    "## Enter the index number to extract `ept` url path and `ept_bbox` bounding box to retrieve the lidar point clouds using PDAL"
   ]
  },
  {
   "cell_type": "code",
   "execution_count": 10,
   "id": "34ae51a3-15f6-4cd4-8343-d700ee317594",
   "metadata": {
    "tags": []
   },
   "outputs": [
    {
     "data": {
      "text/html": [
       "<div>\n",
       "<style scoped>\n",
       "    .dataframe tbody tr th:only-of-type {\n",
       "        vertical-align: middle;\n",
       "    }\n",
       "\n",
       "    .dataframe tbody tr th {\n",
       "        vertical-align: top;\n",
       "    }\n",
       "\n",
       "    .dataframe thead th {\n",
       "        text-align: right;\n",
       "    }\n",
       "</style>\n",
       "<table border=\"1\" class=\"dataframe\">\n",
       "  <thead>\n",
       "    <tr style=\"text-align: right;\">\n",
       "      <th></th>\n",
       "      <th>Title</th>\n",
       "      <th>name</th>\n",
       "    </tr>\n",
       "  </thead>\n",
       "  <tbody>\n",
       "    <tr>\n",
       "      <th>0</th>\n",
       "      <td>2018 MNCPPC Lidar: Montgomery and Prince Georg...</td>\n",
       "      <td>gage id01650500</td>\n",
       "    </tr>\n",
       "  </tbody>\n",
       "</table>\n",
       "</div>"
      ],
      "text/plain": [
       "                                               Title             name\n",
       "0  2018 MNCPPC Lidar: Montgomery and Prince Georg...  gage id01650500"
      ]
     },
     "execution_count": 10,
     "metadata": {},
     "output_type": "execute_result"
    }
   ],
   "source": [
    "index = 0\n",
    "collection = collections.iloc[[index]]\n",
    "collection[['Title', 'name']]"
   ]
  },
  {
   "cell_type": "code",
   "execution_count": 12,
   "id": "ee8bc20a-976f-4b52-b737-63a4b02e5e4d",
   "metadata": {
    "tags": []
   },
   "outputs": [
    {
     "name": "stdout",
     "output_type": "stream",
     "text": [
      "LAS write output enabled. Saving file under demo_data/demo_data/demo_lidar.las\n"
     ]
    }
   ],
   "source": [
    "count, arrays, metadata, demo_las = lapis.fetch_lidar(collection, geometry_method='polygon', write=True)"
   ]
  },
  {
   "cell_type": "markdown",
   "id": "c13796a8-a8ea-495c-8a81-b80c837dc753",
   "metadata": {},
   "source": [
    "# Visualizing the point cloud data"
   ]
  },
  {
   "cell_type": "code",
   "execution_count": 14,
   "id": "0c70dedc-9c0b-4c42-8c9c-d9b26b4927b2",
   "metadata": {
    "tags": []
   },
   "outputs": [
    {
     "data": {
      "application/vnd.jupyter.widget-view+json": {
       "model_id": "2823887474934c2295f691775cddba27",
       "version_major": 2,
       "version_minor": 0
      },
      "text/plain": [
       "Widget(value=\"<iframe src='http://localhost:65230/index.html?ui=P_0x2a00e143a90_0&reconnect=auto' style='width…"
      ]
     },
     "metadata": {},
     "output_type": "display_data"
    }
   ],
   "source": [
    "leafmap.view_lidar(demo_las, cmap='terrain', backend='pyvista')"
   ]
  },
  {
   "cell_type": "code",
   "execution_count": 15,
   "id": "c273d3d8-952d-4973-88ae-59a0c8c71442",
   "metadata": {
    "tags": []
   },
   "outputs": [
    {
     "name": "stdout",
     "output_type": "stream",
     "text": [
      "no.of points / count:  4393761\n",
      "no. arrays:  1\n"
     ]
    }
   ],
   "source": [
    "array = arrays[0] # 0 is for data and 1 is for datatype + column names\n",
    "\n",
    "print('no.of points / count: ', count)\n",
    "print('no. arrays: ', len(arrays))\n",
    "# print('metadata: ', metadata)"
   ]
  },
  {
   "cell_type": "code",
   "execution_count": 16,
   "id": "d7debda1-5b06-4b71-a386-c92c32a9a2bb",
   "metadata": {
    "tags": []
   },
   "outputs": [
    {
     "name": "stdout",
     "output_type": "stream",
     "text": [
      "{'2018-02-28 14:22:15', '2018-02-28 14:22:17', '2018-02-28 14:07:00', '2018-02-28 14:07:30', '2018-02-28 12:01:30', '2018-02-28 14:07:09', '2018-02-28 14:22:20', '2018-02-28 14:06:59', '2018-02-28 14:22:10', '2018-02-28 14:22:11', '2018-02-28 12:01:39', '2018-02-28 12:01:36', '2018-02-28 14:06:58', '2018-02-28 14:22:14', '2018-02-28 14:07:21', '2018-02-28 14:22:26', '2018-02-28 12:01:35', '2018-02-28 14:07:11', '2018-02-28 14:22:12', '2018-02-28 14:07:25', '2018-02-28 14:06:55', '2018-02-28 14:07:29', '2018-02-28 14:07:26', '2018-02-28 14:07:23', '2018-02-28 14:07:22', '2018-02-28 14:22:16', '2018-02-28 14:22:18', '2018-02-28 14:07:02', '2018-02-28 12:01:38', '2018-02-28 14:22:25', '2018-02-28 14:07:31', '2018-02-28 12:01:42', '2018-02-28 14:07:06', '2018-02-28 14:07:08', '2018-02-28 14:07:18', '2018-02-28 14:22:13', '2018-02-28 14:22:19', '2018-02-28 14:07:04', '2018-02-28 12:01:33', '2018-02-28 14:22:22', '2018-02-28 14:06:56', '2018-02-28 12:01:31', '2018-02-28 14:07:20', '2018-02-28 14:22:24', '2018-02-28 14:06:57', '2018-02-28 14:07:24', '2018-02-28 14:07:07', '2018-02-28 12:01:27', '2018-02-28 14:22:21', '2018-02-28 14:07:01', '2018-02-28 12:01:40', '2018-02-28 14:07:19', '2018-02-28 14:07:28', '2018-02-28 14:22:23', '2018-02-28 12:01:32', '2018-02-28 14:07:03', '2018-02-28 14:22:27', '2018-02-28 12:01:29', '2018-02-28 14:07:05', '2018-02-28 12:01:28', '2018-02-28 14:07:10', '2018-02-28 14:22:28', '2018-02-28 14:07:32', '2018-02-28 12:01:41', '2018-02-28 12:01:34', '2018-02-28 12:01:37', '2018-02-28 14:07:27', '2018-02-28 14:07:33'} 0    Feb 8 - Sep 27, 2018\n",
      "Name: collectiondate, dtype: object\n"
     ]
    }
   ],
   "source": [
    "timestamps = gps_time.LidarTimestamps(arrays[0]).get_timestamps()"
   ]
  },
  {
   "cell_type": "code",
   "execution_count": 24,
   "id": "24d12eba-b4a5-4aad-b861-501633eb0a15",
   "metadata": {
    "tags": []
   },
   "outputs": [],
   "source": [
    "sorted_timestamps = sorted(timestamps)"
   ]
  },
  {
   "cell_type": "code",
   "execution_count": 35,
   "id": "e51705e7-d401-48a7-a127-755fd8e7619b",
   "metadata": {
    "tags": []
   },
   "outputs": [
    {
     "name": "stdout",
     "output_type": "stream",
     "text": [
      "Total Duration of the Collection: Feb 8 - Sep 27, 2018 \n",
      "lidar collection start: 2018-02-28 12:01:27 UTC & ends: 2018-02-28 14:22:28 UTC\n"
     ]
    }
   ],
   "source": [
    "print(f\"Total Duration of the Collection: {collection.collectiondate.values[0]} \\nlidar collection start: {sorted_timestamps[0]} UTC & ends: {sorted_timestamps[-1]} UTC\")"
   ]
  },
  {
   "cell_type": "markdown",
   "id": "49ab5d80-e63c-47d5-b3c1-66fc4799a19e",
   "metadata": {
    "tags": []
   },
   "source": [
    "### Pending workflow to extract rating curve at the time of the lidar collection"
   ]
  },
  {
   "cell_type": "markdown",
   "id": "9304d4a5-8312-4706-885a-c5229b29c02c",
   "metadata": {
    "tags": []
   },
   "source": [
    "Substitue current rating curve created for colesville gage"
   ]
  },
  {
   "cell_type": "code",
   "execution_count": 2,
   "id": "c8595ff1-23ff-456b-8c74-542b79f7123b",
   "metadata": {
    "tags": []
   },
   "outputs": [],
   "source": [
    "site = \"01650500\""
   ]
  },
  {
   "cell_type": "markdown",
   "id": "8a50b0cb-a4b1-4ccb-9ab7-3be73c15d9d9",
   "metadata": {
    "tags": []
   },
   "source": [
    "What rating type to pick? exsa or base\n",
    "`https://rconnect.usgs.gov/dataRetrieval/reference/readNWISrating.html`"
   ]
  },
  {
   "cell_type": "code",
   "execution_count": 5,
   "id": "80b2a039-f075-4fc8-9c45-ec4b548c7965",
   "metadata": {
    "tags": []
   },
   "outputs": [
    {
     "name": "stdout",
     "output_type": "stream",
     "text": [
      "columns renamed: {'INDEP': 'stage_ft', 'DEP': 'flow_cfs'}\n"
     ]
    }
   ],
   "source": [
    "rating_data = nwis.get_ratings(site=site, file_type=\"exsa\") # or base?\n",
    "rating_data = flood_stats.format_rating_data(rating_data)"
   ]
  },
  {
   "cell_type": "code",
   "execution_count": 46,
   "id": "7f542172-98da-4cb8-83fe-58ccb7f9280d",
   "metadata": {
    "tags": []
   },
   "outputs": [],
   "source": [
    "data = nwis.get_ratings(site=site, file_type=\"base\")"
   ]
  },
  {
   "cell_type": "markdown",
   "id": "45996281-6efa-43a5-9b6a-c098117b842e",
   "metadata": {},
   "source": [
    "Pull peak flow stats from StreamStats API and convert it into a dataframe"
   ]
  },
  {
   "cell_type": "code",
   "execution_count": 13,
   "id": "a2c9edf7-8ebd-4c96-878f-968115aa0d87",
   "metadata": {
    "tags": []
   },
   "outputs": [
    {
     "name": "stdout",
     "output_type": "stream",
     "text": [
      "Columns rename: {'regressionType.code': 'pfs_aep_code', 'regressionType.name': 'pfs_aep_name', 'value': 'pfs_flow_cfs'}\n"
     ]
    }
   ],
   "source": [
    "peak_flow_stats = flood_stats.PeakFlowStatistics(site).process()"
   ]
  },
  {
   "cell_type": "code",
   "execution_count": 11,
   "id": "5b389735-2936-4685-9261-7fb8ceb1d420",
   "metadata": {
    "tags": []
   },
   "outputs": [
    {
     "data": {
      "text/html": [
       "<div>\n",
       "<style scoped>\n",
       "    .dataframe tbody tr th:only-of-type {\n",
       "        vertical-align: middle;\n",
       "    }\n",
       "\n",
       "    .dataframe tbody tr th {\n",
       "        vertical-align: top;\n",
       "    }\n",
       "\n",
       "    .dataframe thead th {\n",
       "        text-align: right;\n",
       "    }\n",
       "</style>\n",
       "<table border=\"1\" class=\"dataframe\">\n",
       "  <thead>\n",
       "    <tr style=\"text-align: right;\">\n",
       "      <th></th>\n",
       "      <th>pfs_aep_name</th>\n",
       "      <th>pfs_flow_cfs</th>\n",
       "    </tr>\n",
       "  </thead>\n",
       "  <tbody>\n",
       "    <tr>\n",
       "      <th>0</th>\n",
       "      <td>50-percent AEP flood</td>\n",
       "      <td>1254.0</td>\n",
       "    </tr>\n",
       "    <tr>\n",
       "      <th>1</th>\n",
       "      <td>20-percent AEP flood</td>\n",
       "      <td>2257.0</td>\n",
       "    </tr>\n",
       "    <tr>\n",
       "      <th>2</th>\n",
       "      <td>10-percent AEP flood</td>\n",
       "      <td>3236.0</td>\n",
       "    </tr>\n",
       "    <tr>\n",
       "      <th>3</th>\n",
       "      <td>4-percent AEP flood</td>\n",
       "      <td>4958.0</td>\n",
       "    </tr>\n",
       "    <tr>\n",
       "      <th>4</th>\n",
       "      <td>2-percent AEP flood</td>\n",
       "      <td>6688.0</td>\n",
       "    </tr>\n",
       "    <tr>\n",
       "      <th>5</th>\n",
       "      <td>1-percent AEP flood</td>\n",
       "      <td>8900.0</td>\n",
       "    </tr>\n",
       "    <tr>\n",
       "      <th>6</th>\n",
       "      <td>0.5-percent AEP flood</td>\n",
       "      <td>11720.0</td>\n",
       "    </tr>\n",
       "    <tr>\n",
       "      <th>7</th>\n",
       "      <td>0.2-percent AEP flood</td>\n",
       "      <td>16650.0</td>\n",
       "    </tr>\n",
       "    <tr>\n",
       "      <th>8</th>\n",
       "      <td>66.7-percent AEP flood</td>\n",
       "      <td>1016.0</td>\n",
       "    </tr>\n",
       "    <tr>\n",
       "      <th>9</th>\n",
       "      <td>80-percent AEP flood</td>\n",
       "      <td>790.0</td>\n",
       "    </tr>\n",
       "  </tbody>\n",
       "</table>\n",
       "</div>"
      ],
      "text/plain": [
       "             pfs_aep_name  pfs_flow_cfs\n",
       "0    50-percent AEP flood        1254.0\n",
       "1    20-percent AEP flood        2257.0\n",
       "2    10-percent AEP flood        3236.0\n",
       "3     4-percent AEP flood        4958.0\n",
       "4     2-percent AEP flood        6688.0\n",
       "5     1-percent AEP flood        8900.0\n",
       "6   0.5-percent AEP flood       11720.0\n",
       "7   0.2-percent AEP flood       16650.0\n",
       "8  66.7-percent AEP flood        1016.0\n",
       "9    80-percent AEP flood         790.0"
      ]
     },
     "execution_count": 11,
     "metadata": {},
     "output_type": "execute_result"
    }
   ],
   "source": [
    "peak_flow_stats[['pfs_aep_name', 'pfs_flow_cfs']]"
   ]
  },
  {
   "cell_type": "markdown",
   "id": "46001e3b-0c97-489c-9bf3-ed1646f66a71",
   "metadata": {
    "tags": []
   },
   "source": [
    "Cross-reference AEP flow values with flow values from rating curve and find corresponding stage heights"
   ]
  },
  {
   "cell_type": "code",
   "execution_count": 16,
   "id": "ad530cfe-f192-4563-a346-14b6159e5e90",
   "metadata": {
    "tags": []
   },
   "outputs": [],
   "source": [
    "peak_flow_stats = flood_stats.FlowToStage(\n",
    "    peak_flow_stats, rating_curve\n",
    "    ).find_stage_associated_with_aep_flow()"
   ]
  },
  {
   "cell_type": "markdown",
   "id": "d1fb851b-0e31-42c1-b012-bc18db196a5c",
   "metadata": {},
   "source": [
    "- `pfs_aep_name`: peak flow statistic (PFS) annual exceedance probability (AEP) name\n",
    "- `pfs_aep_code`: PFS AEP alphanumeric code\n",
    "---\n",
    "- `pfs_flow_cfs`: PFS AEP flow/discharge in cubic feet per second\n",
    "- `rc_flow_cfs`: rating curve (stage versus flow/discharge in cubic feet per second)\n",
    "- `rc_stage_ft`: rating curve stage height in feet\n",
    "---\n",
    "- `pfs_flow_cms`: PFS AEP flow/discharge in cubic meters per second\n",
    "- `rc_flow_cms`: rating curve (stage versus flow/discharge in cubic meters per second)\n",
    "- `rc_stage_m`: rating curve stage height in meters"
   ]
  },
  {
   "cell_type": "code",
   "execution_count": 18,
   "id": "432e7f3d-9ccc-4ed5-9b53-4e53604fe42b",
   "metadata": {
    "tags": []
   },
   "outputs": [
    {
     "data": {
      "text/html": [
       "<div>\n",
       "<style scoped>\n",
       "    .dataframe tbody tr th:only-of-type {\n",
       "        vertical-align: middle;\n",
       "    }\n",
       "\n",
       "    .dataframe tbody tr th {\n",
       "        vertical-align: top;\n",
       "    }\n",
       "\n",
       "    .dataframe thead th {\n",
       "        text-align: right;\n",
       "    }\n",
       "</style>\n",
       "<table border=\"1\" class=\"dataframe\">\n",
       "  <thead>\n",
       "    <tr style=\"text-align: right;\">\n",
       "      <th></th>\n",
       "      <th>pfs_aep_name</th>\n",
       "      <th>pfs_flow_cms</th>\n",
       "      <th>rc_flow_cms</th>\n",
       "      <th>rc_stage_m</th>\n",
       "    </tr>\n",
       "  </thead>\n",
       "  <tbody>\n",
       "    <tr>\n",
       "      <th>0</th>\n",
       "      <td>50-percent AEP flood</td>\n",
       "      <td>35.509292</td>\n",
       "      <td>35.531662</td>\n",
       "      <td>2.267712</td>\n",
       "    </tr>\n",
       "    <tr>\n",
       "      <th>1</th>\n",
       "      <td>20-percent AEP flood</td>\n",
       "      <td>63.911063</td>\n",
       "      <td>64.033958</td>\n",
       "      <td>2.886456</td>\n",
       "    </tr>\n",
       "    <tr>\n",
       "      <th>2</th>\n",
       "      <td>10-percent AEP flood</td>\n",
       "      <td>91.633229</td>\n",
       "      <td>91.716198</td>\n",
       "      <td>3.084576</td>\n",
       "    </tr>\n",
       "    <tr>\n",
       "      <th>3</th>\n",
       "      <td>4-percent AEP flood</td>\n",
       "      <td>140.394793</td>\n",
       "      <td>140.172506</td>\n",
       "      <td>3.307080</td>\n",
       "    </tr>\n",
       "    <tr>\n",
       "      <th>4</th>\n",
       "      <td>2-percent AEP flood</td>\n",
       "      <td>189.382892</td>\n",
       "      <td>189.334753</td>\n",
       "      <td>3.563112</td>\n",
       "    </tr>\n",
       "    <tr>\n",
       "      <th>5</th>\n",
       "      <td>1-percent AEP flood</td>\n",
       "      <td>252.019697</td>\n",
       "      <td>251.940693</td>\n",
       "      <td>4.081272</td>\n",
       "    </tr>\n",
       "    <tr>\n",
       "      <th>6</th>\n",
       "      <td>0.5-percent AEP flood</td>\n",
       "      <td>331.873129</td>\n",
       "      <td>311.485019</td>\n",
       "      <td>4.843272</td>\n",
       "    </tr>\n",
       "    <tr>\n",
       "      <th>7</th>\n",
       "      <td>0.2-percent AEP flood</td>\n",
       "      <td>471.475051</td>\n",
       "      <td>311.485019</td>\n",
       "      <td>4.843272</td>\n",
       "    </tr>\n",
       "    <tr>\n",
       "      <th>8</th>\n",
       "      <td>66.7-percent AEP flood</td>\n",
       "      <td>28.769889</td>\n",
       "      <td>28.780933</td>\n",
       "      <td>2.039112</td>\n",
       "    </tr>\n",
       "    <tr>\n",
       "      <th>9</th>\n",
       "      <td>80-percent AEP flood</td>\n",
       "      <td>22.370288</td>\n",
       "      <td>22.371704</td>\n",
       "      <td>1.786128</td>\n",
       "    </tr>\n",
       "  </tbody>\n",
       "</table>\n",
       "</div>"
      ],
      "text/plain": [
       "             pfs_aep_name  pfs_flow_cms  rc_flow_cms  rc_stage_m\n",
       "0    50-percent AEP flood     35.509292    35.531662    2.267712\n",
       "1    20-percent AEP flood     63.911063    64.033958    2.886456\n",
       "2    10-percent AEP flood     91.633229    91.716198    3.084576\n",
       "3     4-percent AEP flood    140.394793   140.172506    3.307080\n",
       "4     2-percent AEP flood    189.382892   189.334753    3.563112\n",
       "5     1-percent AEP flood    252.019697   251.940693    4.081272\n",
       "6   0.5-percent AEP flood    331.873129   311.485019    4.843272\n",
       "7   0.2-percent AEP flood    471.475051   311.485019    4.843272\n",
       "8  66.7-percent AEP flood     28.769889    28.780933    2.039112\n",
       "9    80-percent AEP flood     22.370288    22.371704    1.786128"
      ]
     },
     "execution_count": 18,
     "metadata": {},
     "output_type": "execute_result"
    }
   ],
   "source": [
    "peak_flow_stats[['pfs_aep_name', 'pfs_flow_cms', 'rc_flow_cms', 'rc_stage_m']]"
   ]
  },
  {
   "cell_type": "markdown",
   "id": "27bacb0a-9686-43ba-8d69-eadef756b5a7",
   "metadata": {},
   "source": [
    "to do list:\n",
    "- add raster and hand grid\n",
    "- visualize raster and hand grid"
   ]
  },
  {
   "cell_type": "code",
   "execution_count": null,
   "id": "3a1a9619-28ca-426c-9c1f-6618255ba69f",
   "metadata": {},
   "outputs": [],
   "source": []
  }
 ],
 "metadata": {
  "kernelspec": {
   "display_name": "Python 3 (ipykernel)",
   "language": "python",
   "name": "python3"
  },
  "language_info": {
   "codemirror_mode": {
    "name": "ipython",
    "version": 3
   },
   "file_extension": ".py",
   "mimetype": "text/x-python",
   "name": "python",
   "nbconvert_exporter": "python",
   "pygments_lexer": "ipython3",
   "version": "3.10.12"
  }
 },
 "nbformat": 4,
 "nbformat_minor": 5
}
